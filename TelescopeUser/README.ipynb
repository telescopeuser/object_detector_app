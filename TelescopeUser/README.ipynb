{
 "cells": [
  {
   "cell_type": "markdown",
   "metadata": {},
   "source": [
    "### Credit: https://github.com/datitran/object_detector_app"
   ]
  },
  {
   "cell_type": "markdown",
   "metadata": {},
   "source": [
    "<img src=\"TelescopeUser/Screenshot from 2018-02-25 00-22-50 OpenCV real time video object detection.png\" width=\"800\" height=\"400\" align=\"left\" >"
   ]
  },
  {
   "cell_type": "markdown",
   "metadata": {},
   "source": [
    "# Object-Detector-App\n",
    "\n",
    "A real-time object recognition application using [Google's TensorFlow Object Detection API](https://github.com/tensorflow/models/tree/master/research/object_detection) and [OpenCV](http://opencv.org/).\n",
    "\n",
    "## Getting Started\n",
    "1. `conda env create -f environment.yml`\n",
    "2. `python object_detection_app.py`\n",
    "    Optional arguments (default value):\n",
    "    * Device index of the camera `--source=0`\n",
    "    * Width of the frames in the video stream `--width=480`\n",
    "    * Height of the frames in the video stream `--height=360`\n",
    "    * Number of workers `--num-workers=2`\n",
    "    * Size of the queue `--queue-size=5`\n",
    "\n",
    "## Tests\n",
    "```\n",
    "pytest -vs utils/\n",
    "```\n",
    "\n",
    "## Requirements\n",
    "- [Anaconda / Python 3.5](https://www.continuum.io/downloads)\n",
    "- [TensorFlow 1.2](https://www.tensorflow.org/)\n",
    "- [OpenCV 3.0](http://opencv.org/)\n",
    "\n",
    "## Notes\n",
    "- OpenCV 3.1 might crash on OSX after a while, so that's why I had to switch to version 3.0. See open issue and solution [here](https://github.com/opencv/opencv/issues/5874).\n",
    "- Moving the `.read()` part of the video stream in a multiple child processes did not work. However, it was possible to move it to a separate thread.\n",
    "\n",
    "## Copyright\n",
    "\n",
    "See [LICENSE](LICENSE) for details.\n",
    "Copyright (c) 2017 [Dat Tran](http://www.dat-tran.com/).\n"
   ]
  },
  {
   "cell_type": "code",
   "execution_count": null,
   "metadata": {},
   "outputs": [],
   "source": []
  }
 ],
 "metadata": {
  "kernelspec": {
   "display_name": "Python 3",
   "language": "python",
   "name": "python3"
  },
  "language_info": {
   "codemirror_mode": {
    "name": "ipython",
    "version": 3
   },
   "file_extension": ".py",
   "mimetype": "text/x-python",
   "name": "python",
   "nbconvert_exporter": "python",
   "pygments_lexer": "ipython3",
   "version": "3.6.4"
  }
 },
 "nbformat": 4,
 "nbformat_minor": 2
}
